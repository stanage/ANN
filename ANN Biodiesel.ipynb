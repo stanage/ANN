{
 "cells": [
  {
   "cell_type": "code",
   "execution_count": 188,
   "metadata": {},
   "outputs": [],
   "source": [
    "import numpy as np\n",
    "import pandas as pd\n",
    "from tensorflow.keras.models import Sequential\n",
    "from tensorflow.keras.layers import Dense\n",
    "from tensorflow.keras.wrappers.scikit_learn import KerasRegressor\n",
    "from sklearn.model_selection import GridSearchCV\n",
    "from sklearn.metrics import make_scorer\n",
    "from tensorflow.keras.optimizers import SGD, RMSprop, Adam, Adadelta, Adagrad, Adamax, Nadam, Ftrl\n",
    "\n",
    "\n",
    "import tensorflow as tf\n",
    "from tensorflow import keras\n",
    "from sklearn.model_selection import train_test_split\n",
    "from sklearn.preprocessing import StandardScaler, LabelEncoder\n",
    "from sklearn.metrics import mean_squared_error, r2_score,make_scorer\n",
    "from sklearn.metrics import mean_absolute_error \n",
    "\n"
   ]
  },
  {
   "cell_type": "code",
   "execution_count": 189,
   "metadata": {},
   "outputs": [],
   "source": [
    "# Prepare the data\n",
    "data = np.array([\n",
    "  #     Temp    Cat  Time   Met-oil\t  Yield\n",
    "  #============================================\n",
    "       [ 40. ,   3. , 105. ,  15. ,  59.8],\n",
    "       [ 60. ,   3. , 105. ,  10.5,  92.6],\n",
    "       [ 80. ,   1. , 105. ,  10.5,  88.2],\n",
    "       [ 80. ,   5. , 105. ,  10.5,  60.6],\n",
    "       [ 60. ,   5. , 150. ,  10.5,  85.2],\n",
    "       [ 40. ,   5. , 105. ,  10.5,  59.4],\n",
    "       [ 60. ,   3. , 105. ,  10.5,  92.6],\n",
    "       [ 40. ,   3. , 150. ,  10.5,  58.8],\n",
    "       [ 60. ,   3. , 150. ,  15. ,  75.6],\n",
    "       [ 60. ,   1. , 105. ,   6. ,  69.6],\n",
    "       [ 60. ,   5. , 105. ,  15. ,  76.6],\n",
    "       [ 60. ,   3. , 150. ,   6. ,  78.2],\n",
    "       [ 60. ,   3. ,  60. ,  15. ,  84. ],\n",
    "       [ 60. ,   3. , 105. ,  10.5,  95. ],\n",
    "       [ 60. ,   1. , 105. ,  15. ,  87. ],\n",
    "       [ 60. ,   3. , 105. ,  10.5,  90.2],\n",
    "       [ 80. ,   3. ,  60. ,  10.5,  81.8],\n",
    "       [ 40. ,   3. ,  60. ,  10.5,  58.4],\n",
    "       [ 60. ,   1. ,  60. ,  10.5,  89.6],\n",
    "       [ 60. ,   5. , 105. ,   6. ,  65.6],\n",
    "       [ 40. ,   3. , 105. ,   6. ,  59. ],\n",
    "       [ 80. ,   3. , 105. ,   6. ,  86. ],\n",
    "       [ 60. ,   3. ,  60. ,   6. ,  70. ],\n",
    "       [ 60. ,   1. , 150. ,  10.5,  96.4],\n",
    "       [ 80. ,   3. , 150. ,  10.5,  74.6],\n",
    "       [ 80. ,   3. , 105. ,  15. ,  86.6],\n",
    "       [ 60. ,   5. ,  60. ,  10.5,  79. ],\n",
    "       [ 60. ,   3. , 105. ,  10.5,  92.6],\n",
    "       [ 40. ,   1. , 105. ,  10.5,  79.8]\n",
    "])"
   ]
  },
  {
   "cell_type": "code",
   "execution_count": 190,
   "metadata": {},
   "outputs": [],
   "source": [
    "# Split the data into input features and target variable\n",
    "input_data=data[:,:4]\n",
    "target_data=data[:,4:5]"
   ]
  },
  {
   "cell_type": "code",
   "execution_count": 191,
   "metadata": {},
   "outputs": [
    {
     "name": "stdout",
     "output_type": "stream",
     "text": [
      "Train Input: 23\n",
      "Train Target: 23\n",
      "Test Input: 6\n",
      "Test Target: 6\n"
     ]
    }
   ],
   "source": [
    "train_input, test_input, train_target, test_target= train_test_split(input_data, target_data, test_size=0.2, random_state=66)\n",
    "\n",
    "print(f\"Train Input: {train_input.shape[0]}\")\n",
    "print(f\"Train Target: {train_target.shape[0]}\")\n",
    "print(f\"Test Input: {test_input.shape[0]}\")\n",
    "print(f\"Test Target: {test_target.shape[0]}\")"
   ]
  },
  {
   "cell_type": "code",
   "execution_count": 192,
   "metadata": {},
   "outputs": [],
   "source": [
    "sc_x=StandardScaler()\n",
    "train_input=sc_x.fit_transform(train_input)\n",
    "test_input=sc_x.transform(test_input)\n",
    "input_data = sc_x.transform(input_data)\n",
    "\n",
    "sc_y=StandardScaler()\n",
    "train_target=sc_y.fit_transform(train_target)\n",
    "test_target=sc_y.transform(test_target)\n",
    "target_data=sc_y.transform(target_data)"
   ]
  },
  {
   "cell_type": "code",
   "execution_count": 193,
   "metadata": {},
   "outputs": [],
   "source": [
    "def get_preds(test_target, test_target_predict):\n",
    "    test_target=pd.DataFrame(test_target)\n",
    "    test_target.rename(columns={0:'Actual'}, inplace=True)\n",
    "    test_target_predict=pd.DataFrame(test_target_predict)\n",
    "    test_target_predict.rename(columns={0:'Predicted'}, inplace=True)\n",
    "    predictions=pd.concat([test_target, test_target_predict], axis=1)\n",
    "    return predictions"
   ]
  },
  {
   "cell_type": "code",
   "execution_count": 194,
   "metadata": {},
   "outputs": [
    {
     "name": "stderr",
     "output_type": "stream",
     "text": [
      "C:\\Users\\User\\AppData\\Local\\Temp\\ipykernel_2572\\1107042200.py:18: DeprecationWarning: KerasRegressor is deprecated, use Sci-Keras (https://github.com/adriangb/scikeras) instead. See https://www.adriangb.com/scikeras/stable/migration.html for help migrating.\n",
      "  model = KerasRegressor(build_fn=create_model, verbose=0)\n"
     ]
    },
    {
     "name": "stdout",
     "output_type": "stream",
     "text": [
      "Best parameters:  {'activation': 'linear', 'optimizer': 'Adamax', 'units': 70}\n",
      "Best score:  -0.7464790344238281\n"
     ]
    }
   ],
   "source": [
    "# Prepare the data\n",
    "# Define the function to create the ANN model\n",
    "def create_model(units=100, activation='relu', optimizer='adam'):\n",
    "    model = Sequential()\n",
    "    model.add(Dense(units, input_shape=(4,), activation=activation))\n",
    "    model.add(Dense(units, activation=activation))\n",
    "    model.add(Dense(units, activation=activation))\n",
    "    model.add(Dense(units, activation=activation))\n",
    "    model.add(Dense(units, activation=activation))\n",
    "    model.add(Dense(1))\n",
    "\n",
    "    model.compile(optimizer=optimizer, loss='mean_squared_error')\n",
    "    return model\n",
    "\n",
    "\n",
    "\n",
    "# Create the KerasRegressor object\n",
    "model = KerasRegressor(build_fn=create_model, verbose=0)\n",
    "\n",
    "\n",
    "\n",
    "# Define the hyperparameters and their possible values\n",
    "param_grid = {\n",
    "    'units': [50, 70, 90, 110],\n",
    "    'activation': ['relu', 'linear', \"softmax\"],\n",
    "    'optimizer': ['adam', 'sgd', 'Adamax'],\n",
    "}\n",
    "\n",
    "\n",
    "\n",
    "# Create the GridSearchCV object\n",
    "grid = GridSearchCV(estimator=model, param_grid=param_grid, cv=3)\n",
    "\n",
    "# Fit the model using grid search\n",
    "grid_result = grid.fit(input_data, target_data)\n",
    "\n",
    "# Print the best parameters and score\n",
    "print(\"Best parameters: \", grid_result.best_params_)\n",
    "print(\"Best score: \", grid_result.best_score_)\n"
   ]
  },
  {
   "cell_type": "code",
   "execution_count": 195,
   "metadata": {},
   "outputs": [],
   "source": [
    "test_target_pred = grid.predict(test_input)"
   ]
  },
  {
   "cell_type": "code",
   "execution_count": 196,
   "metadata": {},
   "outputs": [
    {
     "data": {
      "text/plain": [
       "0.1659231170940425"
      ]
     },
     "execution_count": 196,
     "metadata": {},
     "output_type": "execute_result"
    }
   ],
   "source": [
    "r2_score(test_target, test_target_pred)"
   ]
  },
  {
   "cell_type": "code",
   "execution_count": 197,
   "metadata": {},
   "outputs": [
    {
     "data": {
      "text/plain": [
       "{'activation': 'linear', 'optimizer': 'Adamax', 'units': 70}"
      ]
     },
     "execution_count": 197,
     "metadata": {},
     "output_type": "execute_result"
    }
   ],
   "source": [
    "ann_params=grid.best_params_\n",
    "ann_params"
   ]
  },
  {
   "cell_type": "code",
   "execution_count": null,
   "metadata": {},
   "outputs": [],
   "source": []
  }
 ],
 "metadata": {
  "kernelspec": {
   "display_name": "base",
   "language": "python",
   "name": "python3"
  },
  "language_info": {
   "codemirror_mode": {
    "name": "ipython",
    "version": 3
   },
   "file_extension": ".py",
   "mimetype": "text/x-python",
   "name": "python",
   "nbconvert_exporter": "python",
   "pygments_lexer": "ipython3",
   "version": "3.9.13"
  },
  "orig_nbformat": 4
 },
 "nbformat": 4,
 "nbformat_minor": 2
}
